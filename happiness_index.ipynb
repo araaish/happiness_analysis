{
  "nbformat": 4,
  "nbformat_minor": 0,
  "metadata": {
    "colab": {
      "name": "happiness_index.ipynb",
      "provenance": [],
      "authorship_tag": "ABX9TyNOJVujRIrl2Jm0X/nVl5GS"
    },
    "kernelspec": {
      "name": "python3",
      "display_name": "Python 3"
    }
  },
  "cells": [
    {
      "cell_type": "code",
      "metadata": {
        "id": "2QtaWkOJPeZ7",
        "colab_type": "code",
        "colab": {}
      },
      "source": [
        ""
      ],
      "execution_count": 0,
      "outputs": []
    }
  ]
}